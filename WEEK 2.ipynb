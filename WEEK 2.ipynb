{
 "cells": [
  {
   "cell_type": "markdown",
   "metadata": {},
   "source": [
    "# For Loop\n",
    "Iterate over list, range(enumeration)\n"
   ]
  },
  {
   "cell_type": "code",
   "execution_count": 4,
   "metadata": {},
   "outputs": [
    {
     "name": "stdout",
     "output_type": "stream",
     "text": [
      "1\n",
      "2\n",
      "3\n",
      "4\n"
     ]
    }
   ],
   "source": [
    "nums= [1,2,3,4]\n",
    "for num in nums:\n",
    "    print(num)\n",
    "\n"
   ]
  },
  {
   "cell_type": "markdown",
   "metadata": {},
   "source": [
    "#### Create list of even numbers from the given list.\n"
   ]
  },
  {
   "cell_type": "code",
   "execution_count": 12,
   "metadata": {},
   "outputs": [
    {
     "name": "stdout",
     "output_type": "stream",
     "text": [
      "2\n",
      "4\n",
      "6\n",
      "8\n"
     ]
    }
   ],
   "source": [
    "nums= [1,2,3,4,3,5,6,7,8,9]\n",
    "even_list=[]\n",
    "for num in nums:\n",
    "    if num %2==0:\n",
    "        print(num)\n",
    "        even_list.append(num)"
   ]
  },
  {
   "cell_type": "markdown",
   "metadata": {},
   "source": [
    "#### Create new list by Removing duplicate numbers from the given list.\n"
   ]
  },
  {
   "cell_type": "code",
   "execution_count": 17,
   "metadata": {},
   "outputs": [
    {
     "name": "stdout",
     "output_type": "stream",
     "text": [
      "[1, 2, 4, 9, 6]\n"
     ]
    }
   ],
   "source": [
    "nums = [1,1,2,4,9,2,6,6]\n",
    "dup = []\n",
    "for num in nums:\n",
    "    if num not in dup: \n",
    "        dup.append(num)\n",
    "print(dup)\n"
   ]
  },
  {
   "cell_type": "markdown",
   "metadata": {},
   "source": [
    "## Range"
   ]
  },
  {
   "cell_type": "code",
   "execution_count": 25,
   "metadata": {},
   "outputs": [
    {
     "name": "stdout",
     "output_type": "stream",
     "text": [
      "1\n",
      "1\n",
      "4\n",
      "5\n",
      "7\n",
      "12\n"
     ]
    }
   ],
   "source": [
    "range_of= range(1,10) \n",
    "sum = 0\n",
    "for i in range(1,10,3):\n",
    "    print(i)\n",
    "    sum+=i\n",
    "    print(sum)\n"
   ]
  },
  {
   "cell_type": "markdown",
   "metadata": {},
   "source": [
    "### inline for loop"
   ]
  },
  {
   "cell_type": "code",
   "execution_count": 26,
   "metadata": {},
   "outputs": [
    {
     "name": "stdout",
     "output_type": "stream",
     "text": [
      "[2, 4, 2, 6, 6]\n"
     ]
    }
   ],
   "source": [
    "nums= [1,1,2,4,9,2,6,6] \n",
    "list_even= [num for num in nums if num %2==0]\n",
    "print(list_even)"
   ]
  },
  {
   "cell_type": "code",
   "execution_count": 28,
   "metadata": {},
   "outputs": [
    {
     "name": "stdout",
     "output_type": "stream",
     "text": [
      "[1, 1, 200, 400, 9, 200, 600, 600]\n"
     ]
    }
   ],
   "source": [
    "nums= [1,1,2,4,9,2,6,6] \n",
    "list_even_t= [(num*100 if num%2==0 else num) for num in nums]\n",
    "print(list_even_t)"
   ]
  },
  {
   "cell_type": "markdown",
   "metadata": {},
   "source": [
    "# Functions"
   ]
  },
  {
   "cell_type": "code",
   "execution_count": 1,
   "metadata": {},
   "outputs": [
    {
     "name": "stdout",
     "output_type": "stream",
     "text": [
      "2744\n",
      "64\n",
      "116\n"
     ]
    }
   ],
   "source": [
    "def add(x,y):\n",
    "    sum =x+y\n",
    "    return sum\n",
    "def mul (x,y):\n",
    "    multiply = x*y\n",
    "    return multiply\n",
    "\n",
    "Product= mul(x=49,y=56)\n",
    "print(Product)\n",
    "\n",
    "\n",
    "Sum_of=add(x=19,y=45)\n",
    "print(Sum_of)\n",
    "print(add(29,87))"
   ]
  }
 ],
 "metadata": {
  "kernelspec": {
   "display_name": "Python 3",
   "language": "python",
   "name": "python3"
  },
  "language_info": {
   "codemirror_mode": {
    "name": "ipython",
    "version": 3
   },
   "file_extension": ".py",
   "mimetype": "text/x-python",
   "name": "python",
   "nbconvert_exporter": "python",
   "pygments_lexer": "ipython3",
   "version": "3.12.4"
  }
 },
 "nbformat": 4,
 "nbformat_minor": 2
}
