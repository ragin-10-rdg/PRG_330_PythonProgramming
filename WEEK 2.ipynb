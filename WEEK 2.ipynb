{
 "cells": [
  {
   "cell_type": "markdown",
   "metadata": {},
   "source": [
    "# For Loop\n",
    "Iterate over list, range(enumeration)\n"
   ]
  },
  {
   "cell_type": "code",
   "execution_count": 4,
   "metadata": {},
   "outputs": [
    {
     "name": "stdout",
     "output_type": "stream",
     "text": [
      "1\n",
      "2\n",
      "3\n",
      "4\n"
     ]
    }
   ],
   "source": [
    "nums= [1,2,3,4]\n",
    "for num in nums:\n",
    "    print(num)\n",
    "\n"
   ]
  },
  {
   "cell_type": "markdown",
   "metadata": {},
   "source": [
    "#### Create list of even numbers from the given list.\n"
   ]
  },
  {
   "cell_type": "code",
   "execution_count": 12,
   "metadata": {},
   "outputs": [
    {
     "name": "stdout",
     "output_type": "stream",
     "text": [
      "2\n",
      "4\n",
      "6\n",
      "8\n"
     ]
    }
   ],
   "source": [
    "nums= [1,2,3,4,3,5,6,7,8,9]\n",
    "even_list=[]\n",
    "for num in nums:\n",
    "    if num %2==0:\n",
    "        print(num)\n",
    "        even_list.append(num)"
   ]
  },
  {
   "cell_type": "markdown",
   "metadata": {},
   "source": [
    "#### Create new list by Removing duplicate numbers from the given list.\n"
   ]
  },
  {
   "cell_type": "code",
   "execution_count": 17,
   "metadata": {},
   "outputs": [
    {
     "name": "stdout",
     "output_type": "stream",
     "text": [
      "[1, 2, 4, 9, 6]\n"
     ]
    }
   ],
   "source": [
    "nums = [1,1,2,4,9,2,6,6]\n",
    "dup = []\n",
    "for num in nums:\n",
    "    if num not in dup: \n",
    "        dup.append(num)\n",
    "print(dup)\n"
   ]
  },
  {
   "cell_type": "markdown",
   "metadata": {},
   "source": [
    "## Range"
   ]
  },
  {
   "cell_type": "code",
   "execution_count": 25,
   "metadata": {},
   "outputs": [
    {
     "name": "stdout",
     "output_type": "stream",
     "text": [
      "1\n",
      "1\n",
      "4\n",
      "5\n",
      "7\n",
      "12\n"
     ]
    }
   ],
   "source": [
    "range_of= range(1,10) \n",
    "sum = 0\n",
    "for i in range(1,10,3):\n",
    "    print(i)\n",
    "    sum+=i\n",
    "    print(sum)\n"
   ]
  },
  {
   "cell_type": "markdown",
   "metadata": {},
   "source": [
    "### inline for loop"
   ]
  },
  {
   "cell_type": "code",
   "execution_count": 26,
   "metadata": {},
   "outputs": [
    {
     "name": "stdout",
     "output_type": "stream",
     "text": [
      "[2, 4, 2, 6, 6]\n"
     ]
    }
   ],
   "source": [
    "nums= [1,1,2,4,9,2,6,6] \n",
    "list_even= [num for num in nums if num %2==0]\n",
    "print(list_even)"
   ]
  },
  {
   "cell_type": "code",
   "execution_count": 28,
   "metadata": {},
   "outputs": [
    {
     "name": "stdout",
     "output_type": "stream",
     "text": [
      "[1, 1, 200, 400, 9, 200, 600, 600]\n"
     ]
    }
   ],
   "source": [
    "nums= [1,1,2,4,9,2,6,6] \n",
    "list_even_t= [(num*100 if num%2==0 else num) for num in nums]\n",
    "print(list_even_t)"
   ]
  },
  {
   "cell_type": "markdown",
   "metadata": {},
   "source": [
    "# Functions"
   ]
  },
  {
   "cell_type": "code",
   "execution_count": 1,
   "metadata": {},
   "outputs": [
    {
     "name": "stdout",
     "output_type": "stream",
     "text": [
      "2744\n",
      "64\n",
      "116\n"
     ]
    }
   ],
   "source": [
    "def add(x,y):\n",
    "    sum =x+y\n",
    "    return sum\n",
    "def mul (x,y):\n",
    "    multiply = x*y\n",
    "    return multiply\n",
    "\n",
    "Product= mul(x=49,y=56)\n",
    "print(Product)\n",
    "\n",
    "\n",
    "Sum_of=add(x=19,y=45)\n",
    "print(Sum_of)\n",
    "print(add(29,87))"
   ]
  },
  {
   "cell_type": "code",
   "execution_count": 3,
   "metadata": {},
   "outputs": [
    {
     "name": "stdout",
     "output_type": "stream",
     "text": [
      "Hello, Hari\n",
      "8\n"
     ]
    }
   ],
   "source": [
    "def greet(name=\"World\"):\n",
    "    print(f\"Hello, {name}\")\n",
    "\n",
    "greet(\"Hari\")\n",
    "\n",
    "def sum(a=0, b=0):\n",
    "    return a+b\n",
    "print (sum(a=5,b=3))"
   ]
  },
  {
   "cell_type": "markdown",
   "metadata": {},
   "source": [
    "### Arbitrary Arguments:\n"
   ]
  },
  {
   "cell_type": "code",
   "execution_count": 4,
   "metadata": {},
   "outputs": [
    {
     "name": "stdout",
     "output_type": "stream",
     "text": [
      "1 2\n",
      "(3, 4, 5, 6)\n",
      "None\n"
     ]
    }
   ],
   "source": [
    "def add (a,b,*args):\n",
    "    print(a,b)\n",
    "    print(args)\n",
    "\n",
    "a= add(1,2,3,4,5,6)\n",
    "print(a)"
   ]
  },
  {
   "cell_type": "markdown",
   "metadata": {},
   "source": [
    "### Return Statements"
   ]
  },
  {
   "cell_type": "code",
   "execution_count": 12,
   "metadata": {},
   "outputs": [
    {
     "name": "stdout",
     "output_type": "stream",
     "text": [
      "Even Number\n",
      "Number is Even\n"
     ]
    }
   ],
   "source": [
    "def even_num(number):\n",
    "    if number %2==0:\n",
    "        print(\"Even Number\")\n",
    "        return \"Number is Even\"\n",
    "    print (\"odd number\")\n",
    "    return \"number is Odd\"\n",
    "\n",
    "Check_num=even_num(8)\n",
    "print(Check_num)"
   ]
  },
  {
   "cell_type": "code",
   "execution_count": 14,
   "metadata": {},
   "outputs": [
    {
     "name": "stdout",
     "output_type": "stream",
     "text": [
      "number is False\n"
     ]
    }
   ],
   "source": [
    "def even_num(number)->bool:\n",
    "    if number %2==0:\n",
    "        return \"Number is True\"\n",
    "  \n",
    "    return \"number is False\"\n",
    "\n",
    "Check_num=even_num(9)\n",
    "print(Check_num)"
   ]
  },
  {
   "cell_type": "markdown",
   "metadata": {},
   "source": [
    "#### write a function that accepts three values (Arguments) x,y, operations "
   ]
  },
  {
   "cell_type": "code",
   "execution_count": 22,
   "metadata": {},
   "outputs": [
    {
     "name": "stdout",
     "output_type": "stream",
     "text": [
      "Result: 5684.0\n"
     ]
    }
   ],
   "source": [
    "# where x=>int, y-int, operation -> string (+,-,*,/)\n",
    "# function should return the output based on the operation\n",
    "# i.e if operation= +add(x+y)\n",
    "# operation =- substract and so on  \n",
    "\n",
    "\n",
    "def calculate(x, y, operation):\n",
    "    if operation == '+':\n",
    "        return x + y\n",
    "    elif operation == '-':\n",
    "        return x - y\n",
    "    elif operation == '*':\n",
    "        return x * y\n",
    "    elif operation == '/':\n",
    "        return x / y if y != 0 else \"Error: Division by zero.\"\n",
    "    elif operation == 'mod':\n",
    "        return x % y\n",
    "    else:\n",
    "        return \"Error: Invalid operation.\"\n",
    "\n",
    "x = float(input(\"Enter the first number: \"))\n",
    "y = float(input(\"Enter the second number: \"))\n",
    "operation = input(\"Enter operation (+, -, *, /, mod): \")\n",
    "\n",
    "result = calculate(x, y, operation)\n",
    "print(\"Result:\", result)\n"
   ]
  },
  {
   "cell_type": "markdown",
   "metadata": {},
   "source": [
    "### Lamda Function"
   ]
  },
  {
   "cell_type": "code",
   "execution_count": 20,
   "metadata": {},
   "outputs": [
    {
     "name": "stdout",
     "output_type": "stream",
     "text": [
      "9604\n"
     ]
    }
   ],
   "source": [
    "square= lambda x: x**2\n",
    "print(square(98))"
   ]
  },
  {
   "cell_type": "markdown",
   "metadata": {},
   "source": [
    "### Questions\n",
    "- Write a function Swap two numbers without using a temporary variable\n",
    "- Write a function Determine if a string is a palindrome (palindrome is if we reverse it has same value)\n",
    "- Write a function to Count the number of vowels in a given string\n",
    "- write a function Find the common elements between two lists"
   ]
  },
  {
   "cell_type": "code",
   "execution_count": 31,
   "metadata": {},
   "outputs": [
    {
     "name": "stdout",
     "output_type": "stream",
     "text": [
      "6 5\n"
     ]
    },
    {
     "data": {
      "text/plain": [
       "True"
      ]
     },
     "execution_count": 31,
     "metadata": {},
     "output_type": "execute_result"
    }
   ],
   "source": [
    "def swap(a:int,b:int):\n",
    "    a=a+b\n",
    "    b=a-b\n",
    "    a=a-b\n",
    "    return a,b\n",
    "\n",
    "a,b =swap(5,6)\n",
    "print (a,b)\n",
    "\n",
    "input=\"apa\"\n",
    "input==input [::-1]\n",
    "def palin(input):\n",
    "    if input == input [::-1]:\n",
    "        return True\n",
    "    return False\n",
    "palin(\"apa\")\n",
    "\n"
   ]
  },
  {
   "cell_type": "code",
   "execution_count": 42,
   "metadata": {},
   "outputs": [
    {
     "name": "stdout",
     "output_type": "stream",
     "text": [
      "47\n"
     ]
    }
   ],
   "source": [
    "def count_vowels(sentence):\n",
    "    vowels ='aeiou'\n",
    "    total_vowels = 0\n",
    "    for char in sentence:\n",
    "        if char.lower() in vowels:\n",
    "            total_vowels+=1\n",
    "    return total_vowels\n",
    "\n",
    "total_vowels = count_vowels(\" Despite controversy and threats, The Interview was released in its original, uncut form through limited theaters and digital platforms.Mera Yeshu YEsh\")\n",
    "print(total_vowels)\n",
    "\n"
   ]
  }
 ],
 "metadata": {
  "kernelspec": {
   "display_name": "Python 3",
   "language": "python",
   "name": "python3"
  },
  "language_info": {
   "codemirror_mode": {
    "name": "ipython",
    "version": 3
   },
   "file_extension": ".py",
   "mimetype": "text/x-python",
   "name": "python",
   "nbconvert_exporter": "python",
   "pygments_lexer": "ipython3",
   "version": "3.12.4"
  }
 },
 "nbformat": 4,
 "nbformat_minor": 2
}
