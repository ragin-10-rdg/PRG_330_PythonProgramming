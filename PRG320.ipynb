{
 "cells": [
  {
   "cell_type": "markdown",
   "metadata": {},
   "source": [
    "# Ragin Karki\n"
   ]
  },
  {
   "cell_type": "markdown",
   "metadata": {},
   "source": [
    "## In my week 1 assignment, I covered these topics that are given below. Fundamentally, we looked at basic operations, string manipulation; conditional statements; loops; list handling, and so on. This assignment gave me the hands on practice with the basics of coding and made my base for the more complicated instructions which comes in the future. \n",
    "### Basic Python Operations\n",
    "- Printing with print() function\n",
    "- Variable assignment and printing\n",
    "### Arithmetic Operations\n",
    "- Addition\n",
    "- Subtraction\n",
    "- Multiplication\n",
    "- Division\n",
    "- Modulus (remainder)\n",
    "### Strings in Python\n",
    "- String length with len()\n",
    "- Slicing (substrings)\n",
    "- Getting the first and last character\n",
    "- String concatenation\n",
    "- String manipulation: lowercase conversion, capitalization, find() method\n",
    "- Converting strings to lists with split()\n",
    "### Conditional Statements\n",
    "- if, elif, else conditions\n",
    "- Day-specific and time-specific messages with conditions\n",
    "- Simple calculator example with basic arithmetic operations\n",
    "### Loops\n",
    "- while loop\n",
    "- Counting\n",
    "- Calculating the sum of numbers\n",
    "- Calculating sum of even and odd numbers\n",
    "### Lists\n",
    "- List creation and element access\n",
    "- List methods:\n",
    "- append(), pop(), remove(), insert(), count(), clear(), copy()\n",
    "- Checking if an element exists in a list with in keyword\n",
    "### Looping Through Lists\n",
    "- Summing elements in a list\n",
    "- Finding maximum and minimum values in a list\n",
    "- Joining list elements into a single string with join()\n"
   ]
  },
  {
   "cell_type": "markdown",
   "metadata": {},
   "source": [
    "### CODES AND THEIR OUTPUTS START FROM HERE "
   ]
  },
  {
   "cell_type": "markdown",
   "metadata": {},
   "source": [
    "## This is my first HELLO WORLD"
   ]
  },
  {
   "cell_type": "code",
   "execution_count": null,
   "metadata": {},
   "outputs": [],
   "source": [
    "hello=\"hello world\"\n",
    "print(hello)\n",
    "a=8\n",
    "b=9\n",
    "print(a,b)\n",
    "highest_mountain =\"everest\"\n",
    "print(highest_mountain)\n"
   ]
  },
  {
   "cell_type": "markdown",
   "metadata": {},
   "source": [
    "## NUMBERS\n"
   ]
  },
  {
   "cell_type": "code",
   "execution_count": null,
   "metadata": {},
   "outputs": [],
   "source": [
    "#addition\n",
    "a=8\n",
    "b=19\n",
    "sum= a+b\n",
    "#subtraction\n",
    "diff= a-b\n",
    "#multiply\n",
    "mul= a*b\n",
    "#division\n",
    "div= a/b\n",
    "#modulus\n",
    "rem = a%b"
   ]
  },
  {
   "cell_type": "markdown",
   "metadata": {},
   "source": [
    "## String in Python"
   ]
  },
  {
   "cell_type": "code",
   "execution_count": 17,
   "metadata": {},
   "outputs": [
    {
     "name": "stdout",
     "output_type": "stream",
     "text": [
      "gio\n",
      "3\n",
      "first last name gio \n",
      "g\n",
      "i\n",
      "gio10 gio \n",
      "gio\n",
      "-1\n"
     ]
    }
   ],
   "source": [
    "\n",
    "#length of the string\n",
    "name = input(\"Enter Your Name: \")\n",
    "total=len(name)\n",
    "print(name)\n",
    "print(total)\n",
    "\n",
    "#sub-string\n",
    "first_name = name[0:6]\n",
    "last_name= name[7:14]\n",
    "print(\"first last name\", first_name, last_name)\n",
    "\n",
    "#get first char\n",
    "first_char = name[0]\n",
    "print (first_char)\n",
    "#get last char \n",
    "last_char = name [1]\n",
    "print (last_char)\n",
    "\n",
    "#concatination\n",
    "full_name= first_name+\"10\"+last_name\n",
    "full_name1 = f\"{first_name} {last_name}\"\n",
    "print(full_name, full_name1)\n",
    "print(name.lower())\n",
    "\n",
    "#capitalize\n",
    "capital_name =\"test\". find('z')\n",
    "#convert string into list\n",
    "all_chars_of_name = name.split()\n",
    "print(capital_name)"
   ]
  },
  {
   "cell_type": "markdown",
   "metadata": {},
   "source": [
    "## Conditional StateMent\n",
    "- if \n",
    "- elif\n",
    "- else\n"
   ]
  },
  {
   "cell_type": "code",
   "execution_count": 8,
   "metadata": {},
   "outputs": [
    {
     "name": "stdout",
     "output_type": "stream",
     "text": [
      "its Saturday, I have a day off\n"
     ]
    }
   ],
   "source": [
    "day = float(input(\"Enter the number: \"))\n",
    "if day==1:\n",
    "    print(\"Its Sunday,I can sleep till 12 pm \")\n",
    "elif day==2:\n",
    "    print(\"Its Monday,I have to go to office\")\n",
    "elif day==3:\n",
    "    print(\"Its Tuesday,I have a meeting\")\n",
    "elif day==4:\n",
    "    print(\"Its Wednessday, I have to finish my task\")\n",
    "elif day==5:\n",
    "    print(\"Its Thursday, I have to go to take my nephew\")\n",
    "elif day==6:\n",
    "    print(\"Its Friday, I can go home early\")\n",
    "else:\n",
    "    print(\"its Saturday, I have a day off\")\n"
   ]
  },
  {
   "cell_type": "code",
   "execution_count": 34,
   "metadata": {},
   "outputs": [
    {
     "name": "stdout",
     "output_type": "stream",
     "text": [
      "Its Time To Go Home\n"
     ]
    }
   ],
   "source": [
    "time = float(input(\"Enter the number: \"))\n",
    "if time>=10 and time<12:\n",
    "    print(\"Its Maths Class \")\n",
    "elif time>=12 and time<14:\n",
    "    print(\"DSA Class\")\n",
    "elif time>=14 and time<16:\n",
    "    print(\"lets practice english\")\n",
    "elif time>16:\n",
    "    print(\"Its Time To Go Home\")\n",
    "else:\n",
    "    print(\"just Started my Day\")\n",
    "    "
   ]
  },
  {
   "cell_type": "markdown",
   "metadata": {},
   "source": [
    "## Ask numbers from the user, ask which operations to perfrom and then execute the program. "
   ]
  },
  {
   "cell_type": "code",
   "execution_count": 9,
   "metadata": {},
   "outputs": [
    {
     "name": "stdout",
     "output_type": "stream",
     "text": [
      "Result: -4.0\n"
     ]
    }
   ],
   "source": [
    "a = float(input(\"Enter the first number: \"))\n",
    "b = float(input(\"Enter the second number: \"))\n",
    "operation = input(\"Enter operation (add, sub, mul, div, mod): \")\n",
    "if operation == 'add':\n",
    "    result = a + b\n",
    "elif operation == 'sub':\n",
    "    result = a - b\n",
    "elif operation == 'mul':\n",
    "    result = a * b\n",
    "elif operation == 'div':\n",
    "    result = a / b if b != 0 else \"Error: Division by zero.\"\n",
    "elif operation == 'mod':\n",
    "    result = a % b\n",
    "else:\n",
    "    result = \"Error: Invalid operation.\"\n",
    "print(\"Result:\", result)"
   ]
  },
  {
   "cell_type": "markdown",
   "metadata": {},
   "source": [
    "## LOOPS (iteration)\n",
    "- While\n",
    "- For"
   ]
  },
  {
   "cell_type": "code",
   "execution_count": 30,
   "metadata": {},
   "outputs": [
    {
     "name": "stdout",
     "output_type": "stream",
     "text": [
      "hello 1\n",
      "hello 2\n",
      "hello 3\n",
      "hello 4\n",
      "hello 5\n",
      "hello 6\n",
      "hello 7\n",
      "hello 8\n",
      "hello 9\n",
      "hello 10\n"
     ]
    }
   ],
   "source": [
    "from time import sleep\n",
    "counter=1\n",
    "while counter<=10:\n",
    "    print(f'hello {counter}')\n",
    "    counter +=1\n",
    "    \n"
   ]
  },
  {
   "cell_type": "markdown",
   "metadata": {},
   "source": []
  },
  {
   "cell_type": "markdown",
   "metadata": {},
   "source": [
    "Find The sum of first 100 even natural number using while loop"
   ]
  },
  {
   "cell_type": "code",
   "execution_count": 29,
   "metadata": {},
   "outputs": [
    {
     "name": "stdout",
     "output_type": "stream",
     "text": [
      "250500 0\n"
     ]
    }
   ],
   "source": [
    "i =1\n",
    "n= 1000\n",
    "sum_of_even_number =0\n",
    "sum_of_odd_number =0\n",
    "while i<=n:\n",
    "    if i%2==0:\n",
    "        sum_of_even_number +=i\n",
    "    else:\n",
    "        sum_of_odd_number +i\n",
    "    i+=1\n",
    "print(sum_of_even_number, sum_of_odd_number)\n",
    "\n"
   ]
  },
  {
   "cell_type": "markdown",
   "metadata": {},
   "source": [
    "Find The sum of first 100 natural number using while loop"
   ]
  },
  {
   "cell_type": "code",
   "execution_count": 2,
   "metadata": {},
   "outputs": [
    {
     "name": "stdout",
     "output_type": "stream",
     "text": [
      "5050\n"
     ]
    }
   ],
   "source": [
    "i =1\n",
    "n= 100\n",
    "sum =0\n",
    "while i<=n:\n",
    "    sum +=i\n",
    "    i+=1\n",
    "print(sum)\n"
   ]
  },
  {
   "cell_type": "code",
   "execution_count": null,
   "metadata": {},
   "outputs": [],
   "source": [
    "numbers= [1,2,3,4,5,5]\n",
    "students= ['Ram', 'Hari']\n",
    "#access elements from list\n",
    "first_number =numbers[0]\n",
    "print(first_number)\n",
    "#count total number of items\n",
    "total_items = len(numbers)\n",
    "print(total_items)\n",
    "#last element\n",
    "last_element = numbers[total_items-1]\n",
    "print(last_element)"
   ]
  },
  {
   "cell_type": "markdown",
   "metadata": {},
   "source": [
    "# LIST METHODS\n",
    "- append (appends new items at the end)\n",
    "- pop (Removes last elements)\n",
    "- count (return total number od items)\n",
    "- insert ()\n",
    "- extend ()\n",
    "- copy ()\n",
    "- clear (delete all items)"
   ]
  },
  {
   "cell_type": "code",
   "execution_count": 11,
   "metadata": {},
   "outputs": [
    {
     "name": "stdout",
     "output_type": "stream",
     "text": [
      "[1, 2, 3, 4, 5, 6, 7, 8]\n",
      "[1, 2, 3, 4, 5, 6, 7, 8, 9]\n",
      "[1, 2, 3, 4, 5, 6, 7, 8]\n",
      "[1, 2, 3, 4, 5, 7, 8]\n",
      "[1, 2, 15, 3, 4, 5, 7, 8]\n",
      "1\n",
      "[2.3]\n",
      "[]\n"
     ]
    }
   ],
   "source": [
    "numbers= [1,2,3,4,5,6,7,8]\n",
    "print(numbers)\n",
    "numbers.append(9)\n",
    "print(numbers)\n",
    "numbers.pop()\n",
    "print(numbers)\n",
    "numbers.remove(6)\n",
    "print(numbers)\n",
    "numbers.insert(2,15)\n",
    "print(numbers)\n",
    "print(numbers.count(2))\n",
    "\n",
    "num1=[2.3]\n",
    "num2=[5,9]\n",
    "num3=[7,4]\n",
    "print(num1)\n",
    "#clear\n",
    "num1.clear()\n",
    "print(num1)\n"
   ]
  },
  {
   "cell_type": "code",
   "execution_count": 13,
   "metadata": {},
   "outputs": [
    {
     "name": "stdout",
     "output_type": "stream",
     "text": [
      "['Python', 'Conda']\n",
      "['Python', 'Conda', 'Django']\n",
      "5 6\n",
      "['Python', 'Conda', 'Django']\n",
      "['Python', 'Conda']\n",
      "Python exists in a\n"
     ]
    }
   ],
   "source": [
    "students= [\"Python\", \"Conda\"]\n",
    "NewStudents= students\n",
    "print(students)\n",
    "students.append(\"Django\")\n",
    "print(NewStudents)\n",
    "\n",
    "a=5\n",
    "b=a\n",
    "b=a+1\n",
    "print(a,b)\n",
    "\n",
    "a=[\"Python\", \"Conda\"]\n",
    "b=a\n",
    "a.append(\"Django\")\n",
    "print(b)\n",
    "\n",
    "a=[\"Python\", \"Conda\"]\n",
    "b=a.copy()\n",
    "a.append(\"Django\")\n",
    "print(b)\n",
    "#check value in list\n",
    "if \"Python\" in a:\n",
    "    print(\"Python exists in a\")\n",
    "\n",
    "\n"
   ]
  },
  {
   "cell_type": "markdown",
   "metadata": {},
   "source": [
    "## LOOP THROUGH LIST"
   ]
  },
  {
   "cell_type": "markdown",
   "metadata": {},
   "source": [
    "# Find the sum of numbers in the list "
   ]
  },
  {
   "cell_type": "code",
   "execution_count": 16,
   "metadata": {},
   "outputs": [
    {
     "name": "stdout",
     "output_type": "stream",
     "text": [
      "44\n"
     ]
    }
   ],
   "source": [
    "#find the sum\n",
    "num=[1,2,3,4,5,6,7,8,8]\n",
    "total= len(num)\n",
    "index=0\n",
    "sum=0\n",
    "while index<total:\n",
    "    sum += num[index]\n",
    "    index += 1\n",
    "\n",
    "print(sum)"
   ]
  },
  {
   "cell_type": "markdown",
   "metadata": {},
   "source": [
    "# Find the max value from the given list"
   ]
  },
  {
   "cell_type": "code",
   "execution_count": 22,
   "metadata": {},
   "outputs": [
    {
     "name": "stdout",
     "output_type": "stream",
     "text": [
      "9\n"
     ]
    }
   ],
   "source": [
    "num=[-10,-3,-9,-50,-100,-1009,0,9]\n",
    "index=0\n",
    "max = num[0]\n",
    "total=len(num)\n",
    "while index<total:\n",
    "    item = num[index]\n",
    "    if item>max:\n",
    "        max=item\n",
    "    index+=1\n",
    "print(max)\n",
    "\n"
   ]
  },
  {
   "cell_type": "markdown",
   "metadata": {},
   "source": [
    "# Find the min value from the given list"
   ]
  },
  {
   "cell_type": "code",
   "execution_count": 24,
   "metadata": {},
   "outputs": [
    {
     "name": "stdout",
     "output_type": "stream",
     "text": [
      "-1009\n"
     ]
    }
   ],
   "source": [
    "num=[-10,-3,-9,-50,-100,-1009,0,9]\n",
    "index=0\n",
    "min = num[0]\n",
    "total=len(num)\n",
    "while index<total:\n",
    "    item = num[index]\n",
    "    if item<max:\n",
    "        min=item\n",
    "    index+=1\n",
    "print(min)"
   ]
  },
  {
   "cell_type": "markdown",
   "metadata": {},
   "source": [
    "# Join all list item into single string"
   ]
  },
  {
   "cell_type": "code",
   "execution_count": 1,
   "metadata": {},
   "outputs": [
    {
     "name": "stdout",
     "output_type": "stream",
     "text": [
      "Python+Conda+React\n"
     ]
    }
   ],
   "source": [
    "students= [\"Python\", \"Conda\", \"React\"]\n",
    "allStudents= '+'.join(students)\n",
    "print(allStudents)"
   ]
  },
  {
   "cell_type": "markdown",
   "metadata": {},
   "source": [
    "## In conclusion, this is an overview on fundamental Python programming concepts including basic operations, arithmetic, handling string, conditional statement, loop, list manipulation and so on. with these topics being the basis for developing bigger programs and important skills for solving problems and manipulations of data within Python. Repetition of these concepts will improve your grasp of it, getting you ready for more complicated programming errands."
   ]
  }
 ],
 "metadata": {
  "kernelspec": {
   "display_name": "Python 3",
   "language": "python",
   "name": "python3"
  },
  "language_info": {
   "codemirror_mode": {
    "name": "ipython",
    "version": 3
   },
   "file_extension": ".py",
   "mimetype": "text/x-python",
   "name": "python",
   "nbconvert_exporter": "python",
   "pygments_lexer": "ipython3",
   "version": "3.12.4"
  }
 },
 "nbformat": 4,
 "nbformat_minor": 2
}
