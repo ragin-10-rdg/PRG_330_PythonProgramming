{
 "cells": [
  {
   "cell_type": "markdown",
   "metadata": {},
   "source": [
    "### Reshaping Array using Reshape Method\n",
    "- Reshape array of size (m,n) to (m1,m2.n1), so that m1 x m2 x n1 = m x n\n",
    "\n"
   ]
  },
  {
   "cell_type": "code",
   "execution_count": 5,
   "metadata": {},
   "outputs": [
    {
     "name": "stdout",
     "output_type": "stream",
     "text": [
      "Original array:\n",
      " [[1 2 3 4]\n",
      " [5 2 4 2]\n",
      " [1 2 0 1]]\n",
      "------------\n",
      "Reshaped array:/n [[[1 2 3]\n",
      "  [4 5 2]]\n",
      "\n",
      " [[4 2 1]\n",
      "  [2 0 1]]]\n"
     ]
    }
   ],
   "source": [
    "import numpy as np\n",
    "# Reshaping 3X4 array to 2X2X3 array\n",
    "arr = np.array([[1, 2, 3, 4],\n",
    "                [5, 2, 4, 2],\n",
    "                [1, 2, 0, 1]])\n",
    "newarr = arr.reshape(2, 2, 3)\n",
    "print (\"Original array:\\n\", arr)\n",
    "print(\"------------\")\n",
    "print(\"Reshaped array:/n\", newarr)"
   ]
  },
  {
   "cell_type": "markdown",
   "metadata": {},
   "source": [
    "### Flatten Array\n",
    "- Flatten method flattens array to one dimension and returns copy of collapsed array\n"
   ]
  },
  {
   "cell_type": "code",
   "execution_count": 3,
   "metadata": {},
   "outputs": [
    {
     "name": "stdout",
     "output_type": "stream",
     "text": [
      "Original array: \n",
      " [[1 2 3]\n",
      " [4 5 6]]\n",
      "Fattened array: \n",
      " [1 2 3 4 5 6]\n"
     ]
    }
   ],
   "source": [
    "# Flatten array\n",
    "arr = np.array ([[1, 2, 3], [4, 5, 6]])\n",
    "flat_arr = arr.flatten()\n",
    "print (\"Original array: \\n\", arr)\n",
    "print (\"Fattened array: \\n\", flat_arr)"
   ]
  },
  {
   "cell_type": "markdown",
   "metadata": {},
   "source": [
    "### NumPy Array Indexing and Slicing\n",
    "#### Basic Indexing\n",
    "- Indexing allows us to access the individual elements or subsets of data.\n"
   ]
  },
  {
   "cell_type": "code",
   "execution_count": null,
   "metadata": {},
   "outputs": [
    {
     "name": "stdout",
     "output_type": "stream",
     "text": [
      "(6,)\n",
      "1\n",
      "6\n",
      "4\n",
      "print dimension of array\n",
      "2\n",
      "print shape of the array\n",
      "(3, 3)\n",
      "print total number of items\n",
      "9\n",
      "first row first element\n",
      "1\n",
      "last row last element\n",
      "8\n",
      "second row third\n",
      "6\n",
      "third row second\n",
      "7\n"
     ]
    }
   ],
   "source": [
    "# 1D Array Indexing\n",
    "arr = np.array([1,2,3,4,5,6])\n",
    "print(arr. shape)\n",
    "print(arr[0]) # first element \n",
    "print(arr[-1]) # last element \n",
    "print(arr[3]) # fourth Element\n",
    "\n",
    "#3D Array Indexing\n",
    "num_2d_array = np.array([\n",
    "                        [1,2,3],\n",
    "                        [4,5,6],\n",
    "                        [6,7,8]\n",
    "                        ])\n",
    "print(\"print dimension of array\")\n",
    "print(num_2d_array.ndim) # print dimension of array\n",
    "print (\"print shape of the array\")\n",
    "print (num_2d_array.shape) # print shape of the array\n",
    "print(\"print total number of items\")\n",
    "print(num_2d_array.size) # print total number of items\n",
    "\n",
    "print(\"first row first element\")\n",
    "print (num_2d_array [0,0]) # first now first element →>1\n",
    "print(\"last row last element\")\n",
    "print(num_2d_array[-1, -1])\n",
    "print(\"second row third\")\n",
    "print (num_2d_array [1,2])\n",
    "print(\"third row second\")\n",
    "print (num_2d_array [2,1])\n",
    "\n",
    "#3D Array\n",
    "\n",
    "\n",
    "\n"
   ]
  },
  {
   "cell_type": "markdown",
   "metadata": {},
   "source": [
    "### Slicing in NumPy\n",
    "- In NumPy we can access the portion of an array using the slice operator\n",
    "### 1-D Array Slicing\n",
    "Syntax: array[start:stop:step]\n",
    "- start: Index of the first element to be includede in slice \n",
    "- stop : index to the last (exclusive)\n",
    "- step: step size bet each element in the slice"
   ]
  },
  {
   "cell_type": "code",
   "execution_count": 10,
   "metadata": {},
   "outputs": [
    {
     "name": "stdout",
     "output_type": "stream",
     "text": [
      "[3 4 5 6]\n",
      "[1 3 5 7]\n",
      "[ 5  6  7  8  9 10 11]\n",
      "[1 2 3 4 5]\n",
      "[1 2]\n",
      "[100 100 100 100 100   6   7   8   9  10  11]\n"
     ]
    }
   ],
   "source": [
    "arr = np.array([1,2,3,4,5,6,7,8,9,10,11])\n",
    "# slice array from index 2-6 (6 exclusive)\n",
    "print(arr[2:6]) # [3,4,5,6]\n",
    "# slice array from 0 to 8 with a step size of 2\n",
    "print (arr [0:8:2]) # [1,3,5,7]\n",
    "# slice array from index 4 to last element\n",
    "print (arr [4:])\n",
    "# slice array from start\n",
    "print (arr[:5])\n",
    "#negatice index\n",
    "print(arr[:2])\n",
    "\n",
    "arr[:5] =100\n",
    "print(arr)"
   ]
  },
  {
   "cell_type": "markdown",
   "metadata": {},
   "source": [
    "### 2-D Array Slicing\n",
    "\n",
    "- syntax: array[row_start:row_step, col_Start:col_stop:col_step]\n",
    "\n"
   ]
  },
  {
   "cell_type": "code",
   "execution_count": 11,
   "metadata": {},
   "outputs": [
    {
     "name": "stdout",
     "output_type": "stream",
     "text": [
      "2\n",
      "[[1 2 3]]\n",
      "[[1 2]\n",
      " [4 5]]\n"
     ]
    }
   ],
   "source": [
    "array_2d = np.array([\n",
    "    [1,2,3],\n",
    "    [4,5,6],\n",
    "    [7,8,9]\n",
    "])\n",
    "print(array_2d.ndim)\n",
    "#slice first row\n",
    "print(array_2d[0:1])\n",
    "#slice array from first two rows and first two columns\n",
    "print(array_2d[0:2,0:2])"
   ]
  },
  {
   "cell_type": "markdown",
   "metadata": {},
   "source": [
    "### Boolean Array Indexing\n",
    "- Boolean array indexing allows us to select elements from an array based on conditions. This technique is helpful when we need to filter elements based on certain condition"
   ]
  },
  {
   "cell_type": "code",
   "execution_count": 13,
   "metadata": {},
   "outputs": [
    {
     "name": "stdout",
     "output_type": "stream",
     "text": [
      "[20 25 30]\n",
      "[10 20 30]\n",
      "[ 5 10 15 99 99 99]\n",
      "[5 6 7 8 9]\n",
      "[[1 2 3]\n",
      " [4 0 0]\n",
      " [0 0 0]]\n"
     ]
    }
   ],
   "source": [
    "# Creating an array\n",
    "arr = np.array([5, 10, 15, 20, 25, 30])\n",
    "# Select elements greater than 15\n",
    "print(arr[arr > 15]) # Output: [20 25 30]\n",
    "# Select elements that are even\n",
    "print (arr[arr % 2 == 0])\n",
    "# Modifying elements that satisty a conation\n",
    "arr[arr>15]=99\n",
    "print(arr)\n",
    "\n",
    "# Boolean indexing on a 2-dimensional array\n",
    "arr2d = np.array([[1, 2, 3], [4, 5, 6], [7, 8, 9]])\n",
    "# Extract elements greater than 4\n",
    "print(arr2d[arr2d > 4])\n",
    "# Output: [5 6 7 8 9]\n",
    "# Setting elements greater than 4 to zero\n",
    "arr2d[arr2d > 4] = 0\n",
    "print(arr2d)"
   ]
  },
  {
   "cell_type": "markdown",
   "metadata": {},
   "source": [
    "### NumPy Arithmetic Array Operations\n",
    "- NumPy Array Functions\n",
    "- NumPy Comparison/Logical Opérations\n",
    "- NumPy Math Functions\n",
    "- NumPy Constants\n",
    "- NumPy Statistical Functions\n",
    "\n",
    "### NumPy Arithmetic Array Operations\n",
    "- add()\n",
    "- subtract()\n",
    "- multiply()\n",
    "- divide()\n",
    "- power()\n",
    "- mod()"
   ]
  },
  {
   "cell_type": "code",
   "execution_count": 17,
   "metadata": {},
   "outputs": [
    {
     "name": "stdout",
     "output_type": "stream",
     "text": [
      "Addition: [ 3  7 11 15]\n",
      "Subtraction: [-1 -1 -1 -1]\n",
      "Multiplication: [ 2 12 30 56]\n",
      "Power: [      1      81   15625 5764801]\n",
      "Division: [0.5        0.75       0.83333333 0.875     ]\n",
      "Modulus: [1 3 5 7]\n"
     ]
    }
   ],
   "source": [
    "import numpy as np\n",
    "\n",
    "first_array = np.array([1, 3, 5, 7])\n",
    "second_array = np.array([2, 4, 6, 8])\n",
    "\n",
    "# Addition\n",
    "add_result = np.add(first_array, second_array)\n",
    "print(\"Addition:\", add_result)\n",
    "\n",
    "# Subtraction\n",
    "sub_result = np.subtract(first_array, second_array)\n",
    "print(\"Subtraction:\", sub_result)\n",
    "\n",
    "# Multiplication\n",
    "multi_result = np.multiply(first_array, second_array)\n",
    "print(\"Multiplication:\", multi_result)\n",
    "\n",
    "# Power (first_array raised to the power of second_array)\n",
    "power_result = np.power(first_array, second_array)\n",
    "print(\"Power:\", power_result)\n",
    "\n",
    "# Division\n",
    "div_result = np.divide(first_array, second_array)\n",
    "print(\"Division:\", div_result)\n",
    "\n",
    "# Modulus\n",
    "mod_result = np.mod(first_array, second_array)\n",
    "print(\"Modulus:\", mod_result)"
   ]
  },
  {
   "cell_type": "code",
   "execution_count": null,
   "metadata": {},
   "outputs": [
    {
     "name": "stdout",
     "output_type": "stream",
     "text": [
      "Multiplication: [ 2  6 10 14]\n"
     ]
    }
   ],
   "source": [
    "import numpy as np\n",
    "\n",
    "first_array = np.array([1, 3, 5, 7])\n",
    "second_array = np.array([2])\n",
    "\n",
    "multi_result = np.multiply(first_array, second_array)\n",
    "print(\"Multiplication:\", multi_result)"
   ]
  },
  {
   "cell_type": "markdown",
   "metadata": {},
   "source": [
    "## Numpy Array Function\n",
    "\n",
    "NumPy has various built-in functions for various purposes\n",
    "- Array Creation Functions: p.array(), np.zeros (), p.ones (), np.empty () etc\n",
    "- Manipulation Functions: np.reshape(), np.transpose()\n",
    "- Mathematical Functions: np.add(), np.subtract(), np.sart(), np.power ()\n",
    "- Statistical Functions: np.median(), np.mean(), np.std(), np.var ()"
   ]
  },
  {
   "cell_type": "code",
   "execution_count": 19,
   "metadata": {},
   "outputs": [
    {
     "data": {
      "text/plain": [
       "406.0"
      ]
     },
     "execution_count": 19,
     "metadata": {},
     "output_type": "execute_result"
    }
   ],
   "source": [
    "data = np.array([1,3,4,57,4,3])\n",
    "np.mean(data)\n",
    "np.median(data)\n",
    "np.std(data)\n",
    "np.var(data)"
   ]
  },
  {
   "cell_type": "markdown",
   "metadata": {},
   "source": [
    "#### Array Manupulation"
   ]
  },
  {
   "cell_type": "code",
   "execution_count": null,
   "metadata": {},
   "outputs": [
    {
     "name": "stdout",
     "output_type": "stream",
     "text": [
      "[[1 2 3]\n",
      " [4 5 6]\n",
      " [7 8 9]]\n",
      "[[1 4 7]\n",
      " [2 5 8]\n",
      " [3 6 9]]\n"
     ]
    }
   ],
   "source": [
    "\n",
    "numbers = np.array ([1, 2,3,4, 5,6, 7,8, 9])\n",
    "# reshape the 1D array into a 2D array\n",
    "reshaped_array = np.reshape(numbers, (3, 3))\n",
    "# 3 x 3 = 9\n",
    "print (reshaped_array)\n",
    "# transpose the 2D array\n",
    "transposed_array = np.transpose(reshaped_array)\n",
    "print(transposed_array)"
   ]
  },
  {
   "cell_type": "markdown",
   "metadata": {},
   "source": [
    "### Numpy MAtrix Operations\n",
    "- Matrix Multiplication np-matmul()\n",
    "- Dot Product np.dot()\n",
    "- Cross Product np.cross()\n",
    "- Transpose np.transpose\n",
    "- Inverse np.linalg. inverse()\n",
    "- Determinant linalg. det () linalg=> Linear Algebra\n",
    "- Norm np.linalg.norm()\n",
    "- Trace np.linalg. trace()"
   ]
  },
  {
   "cell_type": "code",
   "execution_count": null,
   "metadata": {},
   "outputs": [
    {
     "name": "stdout",
     "output_type": "stream",
     "text": [
      "Result of element-wise multiplication:\n",
      "[[ 3 12 15]\n",
      " [16 25 12]\n",
      " [35 32 72]]\n"
     ]
    }
   ],
   "source": [
    "import numpy as np\n",
    "\n",
    "# Define the first 3x3 matrix\n",
    "matrix_1 = np.array([[3, 6, 5],\n",
    "                     [4, 5, 2],\n",
    "                     [5, 4, 8]])\n",
    "\n",
    "# Define the second 3x3 matrix\n",
    "matrix_2 = np.array([[1, 2, 3],\n",
    "                     [4, 5, 6],\n",
    "                     [7, 8, 9]])\n",
    "\n",
    "# Perform element-wise multiplication\n",
    "result = matrix_1 * matrix_2\n",
    "\n",
    "print(\"Result of element-wise multiplication:\")\n",
    "print(result)"
   ]
  },
  {
   "cell_type": "code",
   "execution_count": 1,
   "metadata": {},
   "outputs": [
    {
     "name": "stdout",
     "output_type": "stream",
     "text": [
      "Mathematical Functions\n",
      "[1.         1.41421356 1.73205081 2.        ]\n",
      "[1. 2. 3. 4.]\n",
      "Statistical Functions\n",
      "Mean: 61.3\n",
      "Median: 60.5\n",
      "Minimum marks: 10\n",
      "Maximum marks: 100\n"
     ]
    }
   ],
   "source": [
    "import numpy as np\n",
    "numbers=[1,2,3,4]\n",
    "print('Mathematical Functions')\n",
    "sqrt_numbers=np.sqrt(numbers)\n",
    "print(sqrt_numbers)\n",
    "square_numbers=np.square(sqrt_numbers)\n",
    "print(square_numbers)\n",
    "\n",
    "print('Statistical Functions')\n",
    "students_marks= np.array ([30,50,67,10,100,99,98,71,54,34])\n",
    "mean_marks = np.mean (students_marks)\n",
    "print(\"Mean:\",mean_marks)\n",
    "# compute the median of marks\n",
    "median_marks = np.median(students_marks)\n",
    "print(\"Median:\", median_marks)\n",
    "# find the minimum and maximum marks\n",
    "min_marks = np.min(students_marks)\n",
    "print(\"Minimum marks:\", min_marks)\n",
    "max_marks = np.max(students_marks)\n",
    "print(\"Maximum marks:\", max_marks)"
   ]
  },
  {
   "cell_type": "markdown",
   "metadata": {},
   "source": [
    "### Misc. Mathematical Functional\n",
    "- Trigonometric : sineQ,cos0,tan0,cot0,sec0,cosec0, tangentO\n",
    "- Hyperbolic: sinehQ,cosh0,tanhQ etc\n",
    "- Logarithmic: log0, exp0, log100\n",
    "- round0, floor(),ceil(), absolute0,"
   ]
  },
  {
   "cell_type": "code",
   "execution_count": 9,
   "metadata": {},
   "outputs": [
    {
     "data": {
      "image/png": "[encoded data removed]",
      "text/plain": [
       "<Figure size 1000x500 with 1 Axes>"
      ]
     },
     "metadata": {},
     "output_type": "display_data"
    }
   ],
   "source": [
    "import numpy as np\n",
    "import matplotlib.pyplot as plt\n",
    "\n",
    "#generate x values \n",
    "x = np.linspace(-2*np.pi, 2 * np.pi, 100)\n",
    "\n",
    "# Generate y value\n",
    "y_sin = np.sin(x) \n",
    "# create the plot \n",
    "plt.figure(figsize=(10,5))\n",
    "#plot the sine curve and its opposite phase \n",
    "plt.plot(x,y_sin, label='sine curve', color='green')\n",
    "# Add grid\n",
    "plt.grid()\n",
    "\n",
    "# Add labels and title (optional)\n",
    "plt.title('Sine Curve')\n",
    "plt.xlabel('x values')\n",
    "plt.ylabel('y values')\n",
    "plt.axhline(0, color='black',linewidth=0.5, ls='--')  # Add a horizontal line at y=0\n",
    "plt.axvline(0, color='black',linewidth=0.5, ls='--')  # Add a vertical line at x=0\n",
    "plt.legend()\n",
    "\n",
    "plt.show()"
   ]
  },
  {
   "cell_type": "markdown",
   "metadata": {},
   "source": [
    "### Find out the similarity between following two sentences using cosine similarity\n",
    "- Sky is Blue\n",
    "- Ocean is Blue\n",
    "\n",
    "#### Use TD-IDF Algorithm to Vectorize the sentences\n",
    "TF (t)= total number of occurrence of term t in sentence (doc)/ total length of words in sentence (doc)\n",
    "#### ''IDF(t) = log ( total sentence (doc) length) / no of documents contains term t*\n",
    "if -idf score = tf*idf"
   ]
  },
  {
   "cell_type": "code",
   "execution_count": 11,
   "metadata": {},
   "outputs": [
    {
     "name": "stdout",
     "output_type": "stream",
     "text": [
      "Cosine Similarity Score: 0.5031026124151314\n"
     ]
    }
   ],
   "source": [
    "from sklearn.feature_extraction.text import TfidfVectorizer\n",
    "from sklearn.metrics.pairwise import cosine_similarity\n",
    "\n",
    "# Define sentences\n",
    "sentence1 = 'Sky is Blue'\n",
    "sentence2 = 'Ocean is Blue'\n",
    "\n",
    "# Create a TF-IDF Vectorizer and fit it on the sentences\n",
    "vectorizer = TfidfVectorizer()\n",
    "tfidf_matrix = vectorizer.fit_transform([sentence1, sentence2])\n",
    "\n",
    "# Calculate cosine similarity\n",
    "similarity = cosine_similarity(tfidf_matrix[0:1], tfidf_matrix[1:2])\n",
    "\n",
    "# Print the result\n",
    "print(\"Cosine Similarity Score:\", similarity[0][0])\n"
   ]
  },
  {
   "cell_type": "code",
   "execution_count": 12,
   "metadata": {},
   "outputs": [
    {
     "name": "stdout",
     "output_type": "stream",
     "text": [
      "Sentence 1: 'Sky is Blue'\n",
      "  Word: 'blue', TF-IDF: 0.6404\n",
      "  Word: 'is', TF-IDF: 0.4239\n",
      "  Word: 'sky', TF-IDF: 0.6404\n",
      "Sentence 2: 'Ocean is Blue'\n",
      "  Word: 'blue', TF-IDF: 0.6404\n",
      "  Word: 'is', TF-IDF: 0.4239\n",
      "  Word: 'ocean', TF-IDF: 0.6404\n",
      "Sentence 3: 'The sky is clear'\n",
      "  Word: 'clear', TF-IDF: 0.6305\n",
      "  Word: 'is', TF-IDF: 0.3290\n",
      "  Word: 'sky', TF-IDF: 0.4971\n",
      "  Word: 'the', TF-IDF: 0.4971\n",
      "Sentence 4: 'The ocean is vast'\n",
      "  Word: 'is', TF-IDF: 0.3290\n",
      "  Word: 'ocean', TF-IDF: 0.4971\n",
      "  Word: 'the', TF-IDF: 0.4971\n",
      "  Word: 'vast', TF-IDF: 0.6305\n",
      "\n",
      "Cosine Similarity Score between Sentence 1 and Sentence 2: 0.5898442223772787\n"
     ]
    }
   ],
   "source": [
    "from sklearn.feature_extraction.text import TfidfVectorizer\n",
    "from sklearn.metrics.pairwise import cosine_similarity\n",
    "import numpy as np\n",
    "\n",
    "# Define sentences\n",
    "sentence1 = 'Sky is Blue'\n",
    "sentence2 = 'Ocean is Blue'\n",
    "corpus = [sentence1, sentence2, 'The sky is clear', 'The ocean is vast']\n",
    "\n",
    "# Create a TF-IDF Vectorizer and fit it on the sentences\n",
    "vectorizer = TfidfVectorizer()\n",
    "tfidf_matrix = vectorizer.fit_transform(corpus)\n",
    "\n",
    "# Get feature names\n",
    "feature_names = vectorizer.get_feature_names_out()\n",
    "\n",
    "# Convert the TF-IDF matrix to a dense format and get the TF-IDF values\n",
    "dense_tfidf = tfidf_matrix.todense()\n",
    "\n",
    "# Calculate and print TF and IDF scores\n",
    "for i, sentence in enumerate(corpus):\n",
    "    print(f\"Sentence {i + 1}: '{sentence}'\")\n",
    "    tf_scores = dense_tfidf[i].A1  # Get the TF-IDF scores for the sentence\n",
    "    for word, tf_score in zip(feature_names, tf_scores):\n",
    "        if tf_score > 0:  # Print only non-zero TF-IDF scores\n",
    "            print(f\"  Word: '{word}', TF-IDF: {tf_score:.4f}\")\n",
    "\n",
    "# Calculate cosine similarity between the first two sentences\n",
    "similarity = cosine_similarity(tfidf_matrix[0:1], tfidf_matrix[1:2])\n",
    "print(\"\\nCosine Similarity Score between Sentence 1 and Sentence 2:\", similarity[0][0])"
   ]
  },
  {
   "cell_type": "code",
   "execution_count": 13,
   "metadata": {},
   "outputs": [
    {
     "name": "stdout",
     "output_type": "stream",
     "text": [
      "TF-IDF Vector for Sentence 1: [-0.10136627702704111, -0.10136627702704111, 0.0, 0.0, -0.10136627702704111]\n",
      "TF-IDF Vector for Sentence 2: [-0.10136627702704111, -0.10136627702704111, 0.0, 0.0, -0.10136627702704111]\n"
     ]
    }
   ],
   "source": [
    "import numpy as np\n",
    "\n",
    "def tf_idf(word, sentence, total_documents, corpus):\n",
    "    # Calculate Term Frequency (TF)\n",
    "    tf = sentence.count(word) / len(sentence.split())\n",
    "    \n",
    "    # Calculate Inverse Document Frequency (IDF)\n",
    "    doc_with_word = sum(1 for doc in corpus if word in doc)\n",
    "    idf = np.log(total_documents / (1 + doc_with_word))  # Adding 1 to avoid division by zero\n",
    "    \n",
    "    return tf * idf\n",
    "\n",
    "# Define sentences\n",
    "sentence1 = 'The Sky is blue'.lower()\n",
    "sentence2 = 'The Ocean is blue'.lower()\n",
    "\n",
    "# Define the corpus\n",
    "corpus = [sentence1, sentence2]\n",
    "\n",
    "# List of unique words in the corpus\n",
    "unique_words = set(sentence1.split()).union(set(sentence2.split()))\n",
    "\n",
    "# Calculate TF-IDF scores for each word in both sentences\n",
    "vec1 = [tf_idf(word, sentence1, len(corpus), corpus) for word in unique_words]\n",
    "vec2 = [tf_idf(word, sentence2, len(corpus), corpus) for word in unique_words]\n",
    "\n",
    "# Print the TF-IDF vectors\n",
    "print(\"TF-IDF Vector for Sentence 1:\", vec1)\n",
    "print(\"TF-IDF Vector for Sentence 2:\", vec2)"
   ]
  },
  {
   "cell_type": "code",
   "execution_count": 20,
   "metadata": {},
   "outputs": [
    {
     "data": {
      "text/plain": [
       "0.8991092300789121"
      ]
     },
     "execution_count": 20,
     "metadata": {},
     "output_type": "execute_result"
    }
   ],
   "source": [
    "sentence1= ' The Sky is Blue'\n",
    "sentence2= 'The Ocean is Blue'\n",
    "sentence1 =sentence1.lower()\n",
    "sentence2= sentence2.lower()\n",
    "def tf_idf_vectorizer (word, sentence):\n",
    "    tf=sentence.count(word)/ len(sentence.split())\n",
    "    total_doc_size=2\n",
    "    idf= np.log1p(total_doc_size / 1 if word in sentence1 else 0 +1 if word in sentence2 else 0)\n",
    "    return tf*idf\n",
    "sentence1= ' this is very confusing'.lower()\n",
    "sentence2= 'The Ocean is Blue'.lower()\n",
    "vec1= [tf_idf_vectorizer(word, sentence1) for word in sentence1.split()]\n",
    "vec2= [tf_idf_vectorizer(word, sentence2) for word in sentence2.split()]\n",
    "\n",
    "similarity= np.dot (vec1,vec2) /(np.linalg.norm(vec1) * np.linalg.norm(vec2))\n",
    "similarity"
   ]
  }
 ],
 "metadata": {
  "kernelspec": {
   "display_name": "Python 3",
   "language": "python",
   "name": "python3"
  },
  "language_info": {
   "codemirror_mode": {
    "name": "ipython",
    "version": 3
   },
   "file_extension": ".py",
   "mimetype": "text/x-python",
   "name": "python",
   "nbconvert_exporter": "python",
   "pygments_lexer": "ipython3",
   "version": "3.12.4"
  }
 },
 "nbformat": 4,
 "nbformat_minor": 2
}
