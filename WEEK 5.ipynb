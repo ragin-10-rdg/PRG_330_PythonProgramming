{
 "cells": [
  {
   "cell_type": "markdown",
   "metadata": {},
   "source": [
    "### Reshaping Array using Reshape Method\n",
    "- Reshape array of size (m,n) to (m1,m2.n1), so that m1 x m2 x n1 = m x n\n",
    "\n"
   ]
  },
  {
   "cell_type": "code",
   "execution_count": 5,
   "metadata": {},
   "outputs": [
    {
     "name": "stdout",
     "output_type": "stream",
     "text": [
      "Original array:\n",
      " [[1 2 3 4]\n",
      " [5 2 4 2]\n",
      " [1 2 0 1]]\n",
      "------------\n",
      "Reshaped array:/n [[[1 2 3]\n",
      "  [4 5 2]]\n",
      "\n",
      " [[4 2 1]\n",
      "  [2 0 1]]]\n"
     ]
    }
   ],
   "source": [
    "import numpy as np\n",
    "# Reshaping 3X4 array to 2X2X3 array\n",
    "arr = np.array([[1, 2, 3, 4],\n",
    "                [5, 2, 4, 2],\n",
    "                [1, 2, 0, 1]])\n",
    "newarr = arr.reshape(2, 2, 3)\n",
    "print (\"Original array:\\n\", arr)\n",
    "print(\"------------\")\n",
    "print(\"Reshaped array:/n\", newarr)"
   ]
  },
  {
   "cell_type": "markdown",
   "metadata": {},
   "source": [
    "### Flatten Array\n",
    "- Flatten method flattens array to one dimension and returns copy of collapsed array\n"
   ]
  },
  {
   "cell_type": "code",
   "execution_count": 3,
   "metadata": {},
   "outputs": [
    {
     "name": "stdout",
     "output_type": "stream",
     "text": [
      "Original array: \n",
      " [[1 2 3]\n",
      " [4 5 6]]\n",
      "Fattened array: \n",
      " [1 2 3 4 5 6]\n"
     ]
    }
   ],
   "source": [
    "# Flatten array\n",
    "arr = np.array ([[1, 2, 3], [4, 5, 6]])\n",
    "flat_arr = arr.flatten()\n",
    "print (\"Original array: \\n\", arr)\n",
    "print (\"Fattened array: \\n\", flat_arr)"
   ]
  },
  {
   "cell_type": "markdown",
   "metadata": {},
   "source": [
    "### NumPy Array Indexing and Slicing\n",
    "#### Basic Indexing\n",
    "- Indexing allows us to access the individual elements or subsets of data.\n"
   ]
  },
  {
   "cell_type": "code",
   "execution_count": null,
   "metadata": {},
   "outputs": [
    {
     "name": "stdout",
     "output_type": "stream",
     "text": [
      "(6,)\n",
      "1\n",
      "6\n",
      "4\n",
      "print dimension of array\n",
      "2\n",
      "print shape of the array\n",
      "(3, 3)\n",
      "print total number of items\n",
      "9\n",
      "first row first element\n",
      "1\n",
      "last row last element\n",
      "8\n",
      "second row third\n",
      "6\n",
      "third row second\n",
      "7\n"
     ]
    }
   ],
   "source": [
    "# 1D Array Indexing\n",
    "arr = np.array([1,2,3,4,5,6])\n",
    "print(arr. shape)\n",
    "print(arr[0]) # first element \n",
    "print(arr[-1]) # last element \n",
    "print(arr[3]) # fourth Element\n",
    "\n",
    "#3D Array Indexing\n",
    "num_2d_array = np.array([\n",
    "                        [1,2,3],\n",
    "                        [4,5,6],\n",
    "                        [6,7,8]\n",
    "                        ])\n",
    "print(\"print dimension of array\")\n",
    "print(num_2d_array.ndim) # print dimension of array\n",
    "print (\"print shape of the array\")\n",
    "print (num_2d_array.shape) # print shape of the array\n",
    "print(\"print total number of items\")\n",
    "print(num_2d_array.size) # print total number of items\n",
    "\n",
    "print(\"first row first element\")\n",
    "print (num_2d_array [0,0]) # first now first element →>1\n",
    "print(\"last row last element\")\n",
    "print(num_2d_array[-1, -1])\n",
    "print(\"second row third\")\n",
    "print (num_2d_array [1,2])\n",
    "print(\"third row second\")\n",
    "print (num_2d_array [2,1])\n",
    "\n",
    "#3D Array\n",
    "\n",
    "\n",
    "\n"
   ]
  },
  {
   "cell_type": "markdown",
   "metadata": {},
   "source": [
    "### Slicing in NumPy\n",
    "- In NumPy we can access the portion of an array using the slice operator\n",
    "### 1-D Array Slicing\n",
    "Syntax: array[start:stop:step]\n",
    "- start: Index of the first element to be includede in slice \n",
    "- stop : index to the last (exclusive)\n",
    "- step: step size bet each element in the slice"
   ]
  },
  {
   "cell_type": "code",
   "execution_count": 10,
   "metadata": {},
   "outputs": [
    {
     "name": "stdout",
     "output_type": "stream",
     "text": [
      "[3 4 5 6]\n",
      "[1 3 5 7]\n",
      "[ 5  6  7  8  9 10 11]\n",
      "[1 2 3 4 5]\n",
      "[1 2]\n",
      "[100 100 100 100 100   6   7   8   9  10  11]\n"
     ]
    }
   ],
   "source": [
    "arr = np.array([1,2,3,4,5,6,7,8,9,10,11])\n",
    "# slice array from index 2-6 (6 exclusive)\n",
    "print(arr[2:6]) # [3,4,5,6]\n",
    "# slice array from 0 to 8 with a step size of 2\n",
    "print (arr [0:8:2]) # [1,3,5,7]\n",
    "# slice array from index 4 to last element\n",
    "print (arr [4:])\n",
    "# slice array from start\n",
    "print (arr[:5])\n",
    "#negatice index\n",
    "print(arr[:2])\n",
    "\n",
    "arr[:5] =100\n",
    "print(arr)"
   ]
  },
  {
   "cell_type": "markdown",
   "metadata": {},
   "source": [
    "### 2-D Array Slicing\n",
    "\n",
    "- syntax: array[row_start:row_step, col_Start:col_stop:col_step]\n",
    "\n"
   ]
  },
  {
   "cell_type": "code",
   "execution_count": 11,
   "metadata": {},
   "outputs": [
    {
     "name": "stdout",
     "output_type": "stream",
     "text": [
      "2\n",
      "[[1 2 3]]\n",
      "[[1 2]\n",
      " [4 5]]\n"
     ]
    }
   ],
   "source": [
    "array_2d = np.array([\n",
    "    [1,2,3],\n",
    "    [4,5,6],\n",
    "    [7,8,9]\n",
    "])\n",
    "print(array_2d.ndim)\n",
    "#slice first row\n",
    "print(array_2d[0:1])\n",
    "#slice array from first two rows and first two columns\n",
    "print(array_2d[0:2,0:2])"
   ]
  },
  {
   "cell_type": "markdown",
   "metadata": {},
   "source": [
    "### Boolean Array Indexing\n",
    "- Boolean array indexing allows us to select elements from an array based on conditions. This technique is helpful when we need to filter elements based on certain condition"
   ]
  },
  {
   "cell_type": "code",
   "execution_count": 13,
   "metadata": {},
   "outputs": [
    {
     "name": "stdout",
     "output_type": "stream",
     "text": [
      "[20 25 30]\n",
      "[10 20 30]\n",
      "[ 5 10 15 99 99 99]\n",
      "[5 6 7 8 9]\n",
      "[[1 2 3]\n",
      " [4 0 0]\n",
      " [0 0 0]]\n"
     ]
    }
   ],
   "source": [
    "# Creating an array\n",
    "arr = np.array([5, 10, 15, 20, 25, 30])\n",
    "# Select elements greater than 15\n",
    "print(arr[arr > 15]) # Output: [20 25 30]\n",
    "# Select elements that are even\n",
    "print (arr[arr % 2 == 0])\n",
    "# Modifying elements that satisty a conation\n",
    "arr[arr>15]=99\n",
    "print(arr)\n",
    "\n",
    "# Boolean indexing on a 2-dimensional array\n",
    "arr2d = np.array([[1, 2, 3], [4, 5, 6], [7, 8, 9]])\n",
    "# Extract elements greater than 4\n",
    "print(arr2d[arr2d > 4])\n",
    "# Output: [5 6 7 8 9]\n",
    "# Setting elements greater than 4 to zero\n",
    "arr2d[arr2d > 4] = 0\n",
    "print(arr2d)"
   ]
  },
  {
   "cell_type": "markdown",
   "metadata": {},
   "source": [
    "### NumPy Arithmetic Array Operations\n",
    "- NumPy Array Functions\n",
    "- NumPy Comparison/Logical Opérations\n",
    "- NumPy Math Functions\n",
    "- NumPy Constants\n",
    "- NumPy Statistical Functions\n",
    "\n",
    "### NumPy Arithmetic Array Operations\n",
    "- add()\n",
    "- subtract()\n",
    "- multiply()\n",
    "- divide()\n",
    "- power()\n",
    "- mod()"
   ]
  },
  {
   "cell_type": "code",
   "execution_count": 17,
   "metadata": {},
   "outputs": [
    {
     "name": "stdout",
     "output_type": "stream",
     "text": [
      "Addition: [ 3  7 11 15]\n",
      "Subtraction: [-1 -1 -1 -1]\n",
      "Multiplication: [ 2 12 30 56]\n",
      "Power: [      1      81   15625 5764801]\n",
      "Division: [0.5        0.75       0.83333333 0.875     ]\n",
      "Modulus: [1 3 5 7]\n"
     ]
    }
   ],
   "source": [
    "import numpy as np\n",
    "\n",
    "first_array = np.array([1, 3, 5, 7])\n",
    "second_array = np.array([2, 4, 6, 8])\n",
    "\n",
    "# Addition\n",
    "add_result = np.add(first_array, second_array)\n",
    "print(\"Addition:\", add_result)\n",
    "\n",
    "# Subtraction\n",
    "sub_result = np.subtract(first_array, second_array)\n",
    "print(\"Subtraction:\", sub_result)\n",
    "\n",
    "# Multiplication\n",
    "multi_result = np.multiply(first_array, second_array)\n",
    "print(\"Multiplication:\", multi_result)\n",
    "\n",
    "# Power (first_array raised to the power of second_array)\n",
    "power_result = np.power(first_array, second_array)\n",
    "print(\"Power:\", power_result)\n",
    "\n",
    "# Division\n",
    "div_result = np.divide(first_array, second_array)\n",
    "print(\"Division:\", div_result)\n",
    "\n",
    "# Modulus\n",
    "mod_result = np.mod(first_array, second_array)\n",
    "print(\"Modulus:\", mod_result)"
   ]
  },
  {
   "cell_type": "code",
   "execution_count": null,
   "metadata": {},
   "outputs": [
    {
     "name": "stdout",
     "output_type": "stream",
     "text": [
      "Multiplication: [ 2  6 10 14]\n"
     ]
    }
   ],
   "source": [
    "import numpy as np\n",
    "\n",
    "first_array = np.array([1, 3, 5, 7])\n",
    "second_array = np.array([2])\n",
    "\n",
    "multi_result = np.multiply(first_array, second_array)\n",
    "print(\"Multiplication:\", multi_result)"
   ]
  },
  {
   "cell_type": "markdown",
   "metadata": {},
   "source": [
    "## Numpy Array Function\n",
    "\n",
    "NumPy has various built-in functions for various purposes\n",
    "- Array Creation Functions: p.array(), np.zeros (), p.ones (), np.empty () etc\n",
    "- Manipulation Functions: np.reshape(), np.transpose()\n",
    "- Mathematical Functions: np.add(), np.subtract(), np.sart(), np.power ()\n",
    "- Statistical Functions: np.median(), np.mean(), np.std(), np.var ()"
   ]
  },
  {
   "cell_type": "code",
   "execution_count": 19,
   "metadata": {},
   "outputs": [
    {
     "data": {
      "text/plain": [
       "406.0"
      ]
     },
     "execution_count": 19,
     "metadata": {},
     "output_type": "execute_result"
    }
   ],
   "source": [
    "data = np.array([1,3,4,57,4,3])\n",
    "np.mean(data)\n",
    "np.median(data)\n",
    "np.std(data)\n",
    "np.var(data)"
   ]
  },
  {
   "cell_type": "markdown",
   "metadata": {},
   "source": [
    "#### Array Manupulation"
   ]
  },
  {
   "cell_type": "code",
   "execution_count": null,
   "metadata": {},
   "outputs": [
    {
     "name": "stdout",
     "output_type": "stream",
     "text": [
      "[[1 2 3]\n",
      " [4 5 6]\n",
      " [7 8 9]]\n",
      "[[1 4 7]\n",
      " [2 5 8]\n",
      " [3 6 9]]\n"
     ]
    }
   ],
   "source": [
    "\n",
    "numbers = np.array ([1, 2,3,4, 5,6, 7,8, 9])\n",
    "# reshape the 1D array into a 2D array\n",
    "reshaped_array = np.reshape(numbers, (3, 3))\n",
    "# 3 x 3 = 9\n",
    "print (reshaped_array)\n",
    "# transpose the 2D array\n",
    "transposed_array = np.transpose(reshaped_array)\n",
    "print(transposed_array)"
   ]
  },
  {
   "cell_type": "markdown",
   "metadata": {},
   "source": [
    "### Numpy MAtrix Operations\n",
    "- Matrix Multiplication np-matmul()\n",
    "- Dot Product np.dot()\n",
    "- Cross Product np.cross()\n",
    "- Transpose np.transpose\n",
    "- Inverse np.linalg. inverse()\n",
    "- Determinant linalg. det () linalg=> Linear Algebra\n",
    "- Norm np.linalg.norm()\n",
    "- Trace np.linalg. trace()"
   ]
  },
  {
   "cell_type": "code",
   "execution_count": 24,
   "metadata": {},
   "outputs": [
    {
     "name": "stdout",
     "output_type": "stream",
     "text": [
      "Result of element-wise multiplication:\n",
      "[[ 3 12 15]\n",
      " [16 25 12]\n",
      " [35 32 72]]\n"
     ]
    }
   ],
   "source": [
    "import numpy as np\n",
    "\n",
    "# Define the first 3x3 matrix\n",
    "matrix_1 = np.array([[3, 6, 5],\n",
    "                     [4, 5, 2],\n",
    "                     [5, 4, 8]])\n",
    "\n",
    "# Define the second 3x3 matrix\n",
    "matrix_2 = np.array([[1, 2, 3],\n",
    "                     [4, 5, 6],\n",
    "                     [7, 8, 9]])\n",
    "\n",
    "# Perform element-wise multiplication\n",
    "result = matrix_1 * matrix_2\n",
    "\n",
    "print(\"Result of element-wise multiplication:\")\n",
    "print(result)"
   ]
  }
 ],
 "metadata": {
  "kernelspec": {
   "display_name": "Python 3",
   "language": "python",
   "name": "python3"
  },
  "language_info": {
   "codemirror_mode": {
    "name": "ipython",
    "version": 3
   },
   "file_extension": ".py",
   "mimetype": "text/x-python",
   "name": "python",
   "nbconvert_exporter": "python",
   "pygments_lexer": "ipython3",
   "version": "3.12.4"
  }
 },
 "nbformat": 4,
 "nbformat_minor": 2
}
